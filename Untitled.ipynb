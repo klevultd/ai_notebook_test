{
 "cells": [
  {
   "cell_type": "code",
   "execution_count": 3,
   "id": "cad7168b",
   "metadata": {},
   "outputs": [
    {
     "name": "stdout",
     "output_type": "stream",
     "text": [
      "this is a test notebook\n"
     ]
    }
   ],
   "source": [
    "print(\"this is a test notebook\")"
   ]
  },
  {
   "cell_type": "code",
   "execution_count": null,
   "id": "718f135c",
   "metadata": {},
   "outputs": [],
   "source": []
  }
 ],
 "metadata": {
  "kernelspec": {
   "display_name": "Python 3",
   "language": "python",
   "name": "python3"
  },
  "language_info": {
   "codemirror_mode": {
    "name": "ipython",
    "version": 3
   },
   "file_extension": ".py",
   "mimetype": "text/x-python",
   "name": "python",
   "nbconvert_exporter": "python",
   "pygments_lexer": "ipython3",
   "version": "3.8.2"
  }
 },
 "nbformat": 4,
 "nbformat_minor": 5
}
